{
 "cells": [
  {
   "cell_type": "code",
   "execution_count": 2,
   "metadata": {},
   "outputs": [
    {
     "name": "stdout",
     "output_type": "stream",
     "text": [
      "Current Date: 2024-03-14\n",
      "Current Time: 14:49:57.851794\n"
     ]
    }
   ],
   "source": [
    "from datetime import datetime\n",
    "\n",
    "# Get the current date and time\n",
    "now = datetime.now()\n",
    "\n",
    "# Extract and print the current date\n",
    "current_date = now.date()\n",
    "print(f\"Current Date: {current_date}\")\n",
    "\n",
    "# Extract and print the current time\n",
    "current_time = now.time()\n",
    "print(f\"Current Time: {current_time}\")\n"
   ]
  },
  {
   "cell_type": "code",
   "execution_count": 12,
   "metadata": {},
   "outputs": [],
   "source": [
    "import pandas as pd\n",
    "df = pd.read_csv('vtrust_log.csv')\n"
   ]
  },
  {
   "cell_type": "code",
   "execution_count": 13,
   "metadata": {},
   "outputs": [
    {
     "data": {
      "text/html": [
       "<div>\n",
       "<style scoped>\n",
       "    .dataframe tbody tr th:only-of-type {\n",
       "        vertical-align: middle;\n",
       "    }\n",
       "\n",
       "    .dataframe tbody tr th {\n",
       "        vertical-align: top;\n",
       "    }\n",
       "\n",
       "    .dataframe thead th {\n",
       "        text-align: right;\n",
       "    }\n",
       "</style>\n",
       "<table border=\"1\" class=\"dataframe\">\n",
       "  <thead>\n",
       "    <tr style=\"text-align: right;\">\n",
       "      <th></th>\n",
       "      <th>SN</th>\n",
       "      <th>Updated</th>\n",
       "      <th>Vtrust</th>\n",
       "      <th>Date</th>\n",
       "      <th>Time</th>\n",
       "      <th>datetime</th>\n",
       "    </tr>\n",
       "  </thead>\n",
       "  <tbody>\n",
       "    <tr>\n",
       "      <th>0</th>\n",
       "      <td>1</td>\n",
       "      <td>87</td>\n",
       "      <td>0.87091</td>\n",
       "      <td>2024-03-12</td>\n",
       "      <td>14:49:36.332917</td>\n",
       "      <td>2024-03-12 14:49:36.332917</td>\n",
       "    </tr>\n",
       "    <tr>\n",
       "      <th>25</th>\n",
       "      <td>1</td>\n",
       "      <td>89</td>\n",
       "      <td>0.87256</td>\n",
       "      <td>2024-03-14</td>\n",
       "      <td>14:56:35.860112</td>\n",
       "      <td>2024-03-14 14:56:35.860112</td>\n",
       "    </tr>\n",
       "  </tbody>\n",
       "</table>\n",
       "</div>"
      ],
      "text/plain": [
       "    SN  Updated   Vtrust        Date             Time  \\\n",
       "0    1       87  0.87091  2024-03-12  14:49:36.332917   \n",
       "25   1       89  0.87256  2024-03-14  14:56:35.860112   \n",
       "\n",
       "                      datetime  \n",
       "0   2024-03-12 14:49:36.332917  \n",
       "25  2024-03-14 14:56:35.860112  "
      ]
     },
     "execution_count": 13,
     "metadata": {},
     "output_type": "execute_result"
    }
   ],
   "source": [
    "SN = df[df['SN'] == 1]\n",
    "SN"
   ]
  },
  {
   "cell_type": "code",
   "execution_count": 15,
   "metadata": {},
   "outputs": [
    {
     "data": {
      "image/png": "[encoded data removed]",
      "text/plain": [
       "<Figure size 432x288 with 1 Axes>"
      ]
     },
     "metadata": {
      "needs_background": "light"
     },
     "output_type": "display_data"
    }
   ],
   "source": [
    "SN\n",
    "import matplotlib.pyplot as plt\n",
    "\n",
    "fig, ax = plt.subplots()\n",
    "ax.plot(SN['Date'], SN['Vtrust'], marker='o', linestyle='-', color='blue')\n",
    "ax.set_title(f'Vtrust Over Time - {option}')\n",
    "ax.set_xlabel('Date')\n",
    "ax.set_ylabel('Vtrust')\n",
    "ax.grid(True)\n",
    "plt.xticks(rotation=45)\n",
    "plt.tight_layout()"
   ]
  },
  {
   "cell_type": "code",
   "execution_count": 20,
   "metadata": {},
   "outputs": [
    {
     "name": "stdout",
     "output_type": "stream",
     "text": [
      "['2024-03-06', '2024-03-07', '2024-03-08', '2024-03-09', '2024-03-10', '2024-03-11', '2024-03-12']\n"
     ]
    }
   ],
   "source": [
    "from datetime import datetime, timedelta\n",
    "\n",
    "# Get today's date\n",
    "today = datetime.now()\n",
    "\n",
    "# Calculate the start of last week (assuming Monday is the first day of the week)\n",
    "start_of_last_week = today - timedelta(days=today.weekday() + 5)\n",
    "\n",
    "# Generate a list of dates for each day of last week\n",
    "last_week_dates = [(start_of_last_week + timedelta(days=i)).strftime('%Y-%m-%d') for i in range(7)]\n",
    "\n",
    "print(last_week_dates)\n"
   ]
  },
  {
   "cell_type": "code",
   "execution_count": 21,
   "metadata": {},
   "outputs": [
    {
     "data": {
      "text/plain": [
       "0     2024-03-12\n",
       "1     2024-03-12\n",
       "2     2024-03-12\n",
       "3     2024-03-12\n",
       "4     2024-03-12\n",
       "5     2024-03-12\n",
       "6     2024-03-12\n",
       "7     2024-03-12\n",
       "8     2024-03-12\n",
       "9     2024-03-12\n",
       "10    2024-03-12\n",
       "11    2024-03-12\n",
       "12    2024-03-12\n",
       "13    2024-03-12\n",
       "14    2024-03-12\n",
       "15    2024-03-12\n",
       "16    2024-03-12\n",
       "17    2024-03-12\n",
       "18    2024-03-12\n",
       "19    2024-03-12\n",
       "20    2024-03-12\n",
       "21    2024-03-12\n",
       "22    2024-03-12\n",
       "23    2024-03-12\n",
       "24    2024-03-12\n",
       "25    2024-03-14\n",
       "26    2024-03-14\n",
       "27    2024-03-14\n",
       "28    2024-03-14\n",
       "29    2024-03-14\n",
       "30    2024-03-14\n",
       "31    2024-03-14\n",
       "32    2024-03-14\n",
       "33    2024-03-14\n",
       "34    2024-03-14\n",
       "35    2024-03-14\n",
       "36    2024-03-14\n",
       "37    2024-03-14\n",
       "38    2024-03-14\n",
       "39    2024-03-14\n",
       "40    2024-03-14\n",
       "41    2024-03-14\n",
       "42    2024-03-14\n",
       "43    2024-03-14\n",
       "44    2024-03-14\n",
       "45    2024-03-14\n",
       "46    2024-03-14\n",
       "47    2024-03-14\n",
       "48    2024-03-14\n",
       "49    2024-03-14\n",
       "50    2024-03-14\n",
       "51    2024-03-14\n",
       "Name: Date, dtype: object"
      ]
     },
     "execution_count": 21,
     "metadata": {},
     "output_type": "execute_result"
    }
   ],
   "source": [
    "df['Date']"
   ]
  },
  {
   "cell_type": "code",
   "execution_count": 19,
   "metadata": {},
   "outputs": [
    {
     "name": "stdout",
     "output_type": "stream",
     "text": [
      "Empty DataFrame\n",
      "Columns: [SN, Updated, Vtrust, Date, Time, datetime]\n",
      "Index: []\n"
     ]
    }
   ],
   "source": [
    "date_list = pd.to_datetime(last_week_dates)\n",
    "\n",
    "# Filter the DataFrame for rows where the 'date' is in date_list\n",
    "filtered_df = df[df['Date'].isin(date_list)]\n",
    "\n",
    "# Display the filtered DataFrame\n",
    "print(filtered_df)"
   ]
  },
  {
   "cell_type": "code",
   "execution_count": null,
   "metadata": {},
   "outputs": [],
   "source": [
    "SN\n",
    "import matplotlib.pyplot as plt\n",
    "\n",
    "fig, ax = plt.subplots()\n",
    "ax.plot(SN['Date'], SN['Vtrust'], marker='o', linestyle='-', color='blue')\n",
    "ax.set_title(f'Vtrust Over Time - {option}')\n",
    "ax.set_xlabel('Date')\n",
    "ax.set_ylabel('Vtrust')\n",
    "ax.grid(True)\n",
    "plt.xticks(rotation=45)\n",
    "plt.tight_layout()"
   ]
  },
  {
   "cell_type": "code",
   "execution_count": 8,
   "metadata": {},
   "outputs": [
    {
     "name": "stdout",
     "output_type": "stream",
     "text": [
      "start_date  : 2024-03-07 14:54:06.430012\n",
      "   SN  Updated   Vtrust        Date             Time  \\\n",
      "0   1       87  0.87091  2024-03-12  14:49:36.332917   \n",
      "\n",
      "                     datetime  \n",
      "0  2024-03-12 14:49:36.332917  \n"
     ]
    },
    {
     "ename": "ValueError",
     "evalue": "x and y must have same first dimension, but have shapes (7,) and (1,)",
     "output_type": "error",
     "traceback": [
      "\u001b[1;31m---------------------------------------------------------------------------\u001b[0m",
      "\u001b[1;31mValueError\u001b[0m                                Traceback (most recent call last)",
      "Input \u001b[1;32mIn [8]\u001b[0m, in \u001b[0;36m<module>\u001b[1;34m\u001b[0m\n\u001b[0;32m     28\u001b[0m \u001b[38;5;66;03m# Plotting\u001b[39;00m\n\u001b[0;32m     29\u001b[0m fig, ax \u001b[38;5;241m=\u001b[39m plt\u001b[38;5;241m.\u001b[39msubplots()\n\u001b[1;32m---> 30\u001b[0m \u001b[43max\u001b[49m\u001b[38;5;241;43m.\u001b[39;49m\u001b[43mplot\u001b[49m\u001b[43m(\u001b[49m\u001b[43mlast_week_dates\u001b[49m\u001b[43m,\u001b[49m\u001b[43m \u001b[49m\u001b[43mdf_filtered\u001b[49m\u001b[43m[\u001b[49m\u001b[38;5;124;43m'\u001b[39;49m\u001b[38;5;124;43mVtrust\u001b[39;49m\u001b[38;5;124;43m'\u001b[39;49m\u001b[43m]\u001b[49m\u001b[43m,\u001b[49m\u001b[43m \u001b[49m\u001b[43mmarker\u001b[49m\u001b[38;5;241;43m=\u001b[39;49m\u001b[38;5;124;43m'\u001b[39;49m\u001b[38;5;124;43mo\u001b[39;49m\u001b[38;5;124;43m'\u001b[39;49m\u001b[43m,\u001b[49m\u001b[43m \u001b[49m\u001b[43mlinestyle\u001b[49m\u001b[38;5;241;43m=\u001b[39;49m\u001b[38;5;124;43m'\u001b[39;49m\u001b[38;5;124;43m-\u001b[39;49m\u001b[38;5;124;43m'\u001b[39;49m\u001b[43m,\u001b[49m\u001b[43m \u001b[49m\u001b[43mcolor\u001b[49m\u001b[38;5;241;43m=\u001b[39;49m\u001b[38;5;124;43m'\u001b[39;49m\u001b[38;5;124;43mblue\u001b[39;49m\u001b[38;5;124;43m'\u001b[39;49m\u001b[43m)\u001b[49m\n\u001b[0;32m     31\u001b[0m ax\u001b[38;5;241m.\u001b[39mset_title(\u001b[38;5;124mf\u001b[39m\u001b[38;5;124m'\u001b[39m\u001b[38;5;124mVtrust Over Time - \u001b[39m\u001b[38;5;132;01m{\u001b[39;00moption\u001b[38;5;132;01m}\u001b[39;00m\u001b[38;5;124m'\u001b[39m)\n\u001b[0;32m     32\u001b[0m ax\u001b[38;5;241m.\u001b[39mset_xlabel(\u001b[38;5;124m'\u001b[39m\u001b[38;5;124mDate\u001b[39m\u001b[38;5;124m'\u001b[39m)\n",
      "File \u001b[1;32md:\\Anaconda\\envs\\main\\lib\\site-packages\\matplotlib\\axes\\_axes.py:1635\u001b[0m, in \u001b[0;36mAxes.plot\u001b[1;34m(self, scalex, scaley, data, *args, **kwargs)\u001b[0m\n\u001b[0;32m   1393\u001b[0m \u001b[38;5;250m\u001b[39m\u001b[38;5;124;03m\"\"\"\u001b[39;00m\n\u001b[0;32m   1394\u001b[0m \u001b[38;5;124;03mPlot y versus x as lines and/or markers.\u001b[39;00m\n\u001b[0;32m   1395\u001b[0m \n\u001b[1;32m   (...)\u001b[0m\n\u001b[0;32m   1632\u001b[0m \u001b[38;5;124;03m(``'green'``) or hex strings (``'#008000'``).\u001b[39;00m\n\u001b[0;32m   1633\u001b[0m \u001b[38;5;124;03m\"\"\"\u001b[39;00m\n\u001b[0;32m   1634\u001b[0m kwargs \u001b[38;5;241m=\u001b[39m cbook\u001b[38;5;241m.\u001b[39mnormalize_kwargs(kwargs, mlines\u001b[38;5;241m.\u001b[39mLine2D)\n\u001b[1;32m-> 1635\u001b[0m lines \u001b[38;5;241m=\u001b[39m [\u001b[38;5;241m*\u001b[39m\u001b[38;5;28mself\u001b[39m\u001b[38;5;241m.\u001b[39m_get_lines(\u001b[38;5;241m*\u001b[39margs, data\u001b[38;5;241m=\u001b[39mdata, \u001b[38;5;241m*\u001b[39m\u001b[38;5;241m*\u001b[39mkwargs)]\n\u001b[0;32m   1636\u001b[0m \u001b[38;5;28;01mfor\u001b[39;00m line \u001b[38;5;129;01min\u001b[39;00m lines:\n\u001b[0;32m   1637\u001b[0m     \u001b[38;5;28mself\u001b[39m\u001b[38;5;241m.\u001b[39madd_line(line)\n",
      "File \u001b[1;32md:\\Anaconda\\envs\\main\\lib\\site-packages\\matplotlib\\axes\\_base.py:312\u001b[0m, in \u001b[0;36m_process_plot_var_args.__call__\u001b[1;34m(self, data, *args, **kwargs)\u001b[0m\n\u001b[0;32m    310\u001b[0m     this \u001b[38;5;241m+\u001b[39m\u001b[38;5;241m=\u001b[39m args[\u001b[38;5;241m0\u001b[39m],\n\u001b[0;32m    311\u001b[0m     args \u001b[38;5;241m=\u001b[39m args[\u001b[38;5;241m1\u001b[39m:]\n\u001b[1;32m--> 312\u001b[0m \u001b[38;5;28;01myield from\u001b[39;00m \u001b[38;5;28;43mself\u001b[39;49m\u001b[38;5;241;43m.\u001b[39;49m\u001b[43m_plot_args\u001b[49m\u001b[43m(\u001b[49m\u001b[43mthis\u001b[49m\u001b[43m,\u001b[49m\u001b[43m \u001b[49m\u001b[43mkwargs\u001b[49m\u001b[43m)\u001b[49m\n",
      "File \u001b[1;32md:\\Anaconda\\envs\\main\\lib\\site-packages\\matplotlib\\axes\\_base.py:498\u001b[0m, in \u001b[0;36m_process_plot_var_args._plot_args\u001b[1;34m(self, tup, kwargs, return_kwargs)\u001b[0m\n\u001b[0;32m    495\u001b[0m     \u001b[38;5;28mself\u001b[39m\u001b[38;5;241m.\u001b[39maxes\u001b[38;5;241m.\u001b[39myaxis\u001b[38;5;241m.\u001b[39mupdate_units(y)\n\u001b[0;32m    497\u001b[0m \u001b[38;5;28;01mif\u001b[39;00m x\u001b[38;5;241m.\u001b[39mshape[\u001b[38;5;241m0\u001b[39m] \u001b[38;5;241m!=\u001b[39m y\u001b[38;5;241m.\u001b[39mshape[\u001b[38;5;241m0\u001b[39m]:\n\u001b[1;32m--> 498\u001b[0m     \u001b[38;5;28;01mraise\u001b[39;00m \u001b[38;5;167;01mValueError\u001b[39;00m(\u001b[38;5;124mf\u001b[39m\u001b[38;5;124m\"\u001b[39m\u001b[38;5;124mx and y must have same first dimension, but \u001b[39m\u001b[38;5;124m\"\u001b[39m\n\u001b[0;32m    499\u001b[0m                      \u001b[38;5;124mf\u001b[39m\u001b[38;5;124m\"\u001b[39m\u001b[38;5;124mhave shapes \u001b[39m\u001b[38;5;132;01m{\u001b[39;00mx\u001b[38;5;241m.\u001b[39mshape\u001b[38;5;132;01m}\u001b[39;00m\u001b[38;5;124m and \u001b[39m\u001b[38;5;132;01m{\u001b[39;00my\u001b[38;5;241m.\u001b[39mshape\u001b[38;5;132;01m}\u001b[39;00m\u001b[38;5;124m\"\u001b[39m)\n\u001b[0;32m    500\u001b[0m \u001b[38;5;28;01mif\u001b[39;00m x\u001b[38;5;241m.\u001b[39mndim \u001b[38;5;241m>\u001b[39m \u001b[38;5;241m2\u001b[39m \u001b[38;5;129;01mor\u001b[39;00m y\u001b[38;5;241m.\u001b[39mndim \u001b[38;5;241m>\u001b[39m \u001b[38;5;241m2\u001b[39m:\n\u001b[0;32m    501\u001b[0m     \u001b[38;5;28;01mraise\u001b[39;00m \u001b[38;5;167;01mValueError\u001b[39;00m(\u001b[38;5;124mf\u001b[39m\u001b[38;5;124m\"\u001b[39m\u001b[38;5;124mx and y can be no greater than 2D, but have \u001b[39m\u001b[38;5;124m\"\u001b[39m\n\u001b[0;32m    502\u001b[0m                      \u001b[38;5;124mf\u001b[39m\u001b[38;5;124m\"\u001b[39m\u001b[38;5;124mshapes \u001b[39m\u001b[38;5;132;01m{\u001b[39;00mx\u001b[38;5;241m.\u001b[39mshape\u001b[38;5;132;01m}\u001b[39;00m\u001b[38;5;124m and \u001b[39m\u001b[38;5;132;01m{\u001b[39;00my\u001b[38;5;241m.\u001b[39mshape\u001b[38;5;132;01m}\u001b[39;00m\u001b[38;5;124m\"\u001b[39m)\n",
      "\u001b[1;31mValueError\u001b[0m: x and y must have same first dimension, but have shapes (7,) and (1,)"
     ]
    },
    {
     "data": {
      "image/png": "[encoded data removed]",
      "text/plain": [
       "<Figure size 432x288 with 1 Axes>"
      ]
     },
     "metadata": {
      "needs_background": "light"
     },
     "output_type": "display_data"
    }
   ],
   "source": [
    "import pandas as pd\n",
    "import matplotlib.pyplot as plt\n",
    "from datetime import datetime, timedelta\n",
    "df = pd.read_csv('vtrust_log.csv')\n",
    "\n",
    "today = datetime.today()\n",
    "dates = pd.date_range(end=today, periods=365, freq='D')\n",
    "values = range(len(dates))  # Example data; replace with your actual data\n",
    "# df = pd.DataFrame({'Date': dates, 'Vtrust': values})\n",
    "subnet_ids = df['SN'].unique()\n",
    "option = 'Last week'\n",
    "\n",
    "# Calculate the start date based on selection\n",
    "if option == 'Last week':\n",
    "    start_date = today - timedelta(weeks=1)\n",
    "elif option == 'Last month':\n",
    "    start_date = today - timedelta(days=30)\n",
    "elif option == 'Last 6 months':\n",
    "    start_date = today - timedelta(days=30*6)\n",
    "else:  # 'Last year'\n",
    "    start_date = today - timedelta(days=365)\n",
    "# start_date = start_date.date()\n",
    "print('start_date  : '+str(start_date))\n",
    "\n",
    "# filtered_df = df[df['Date'] >= pd.to_datetime(start_date)]\n",
    "df_filtered = df[df['SN'] == 1]\n",
    "print(df_filtered)\n",
    "# Plotting\n",
    "fig, ax = plt.subplots()\n",
    "ax.plot(last_week_dates, df_filtered['Vtrust'], marker='o', linestyle='-', color='blue')\n",
    "ax.set_title(f'Vtrust Over Time - {option}')\n",
    "ax.set_xlabel('Date')\n",
    "ax.set_ylabel('Vtrust')\n",
    "ax.grid(True)\n",
    "plt.xticks(rotation=45)\n",
    "plt.tight_layout()"
   ]
  },
  {
   "cell_type": "code",
   "execution_count": 24,
   "metadata": {},
   "outputs": [
    {
     "data": {
      "text/plain": [
       "'wamid.HBgMOTIzMTAxMDYyNTk2FQIAERgSRTkzQzc2QjQ2MTlEN0Y4NzAxAA=='"
      ]
     },
     "execution_count": 24,
     "metadata": {},
     "output_type": "execute_result"
    }
   ],
   "source": [
    "from pywa import WhatsApp\n",
    "\n",
    "wa = WhatsApp(\n",
    "    phone_id='109683645280921',\n",
    "    token='EAAPjgUQ6VZCIBO1ZBbkdDtH8hvVfHfE9EMDZBWfDIp1uf57rDDyQUZB8ZBZAXH7NoMBQqNStpSjTjn2BzZBpILNNB0lq1vXsuY6CPfq3wG4G6dBOJeYWIKC1mFyLAgU8x5FZABqIEESuAMNnSQrtSiN2qfti3Me3L7twuJiPDc8BeYuBYWYDPDxFJZClaDOFM4jVVYCwlFxnthozw28uH5oMZD'\n",
    ")\n",
    "\n",
    "wa.send_message(\n",
    "    to='923101062596',\n",
    "    text='Hello from PyWa!'\n",
    ")"
   ]
  },
  {
   "cell_type": "code",
   "execution_count": 32,
   "metadata": {},
   "outputs": [],
   "source": [
    "token='EAAPjgUQ6VZCIBO1ZBbkdDtH8hvVfHfE9EMDZBWfDIp1uf57rDDyQUZB8ZBZAXH7NoMBQqNStpSjTjn2BzZBpILNNB0lq1vXsuY6CPfq3wG4G6dBOJeYWIKC1mFyLAgU8x5FZABqIEESuAMNnSQrtSiN2qfti3Me3L7twuJiPDc8BeYuBYWYDPDxFJZClaDOFM4jVVYCwlFxnthozw28uH5oMZD'\n",
    "to='923101062596'\n",
    "phone_id='109683645280921'"
   ]
  },
  {
   "cell_type": "code",
   "execution_count": 28,
   "metadata": {},
   "outputs": [
    {
     "name": "stdout",
     "output_type": "stream",
     "text": [
      "{\"error\":{\"message\":\"Unknown path components: \\/{{Phone-Number-ID}}\\/messages\",\"type\":\"OAuthException\",\"code\":2500,\"fbtrace_id\":\"AQyWQklLAyJqZnURoeh0zCi\"}}\n"
     ]
    }
   ],
   "source": [
    "import requests\n",
    "import json\n",
    "\n",
    "url = \"https://graph.facebook.com/{{Version}}/{{Phone-Number-ID}}/messages\"\n",
    "\n",
    "payload = json.dumps({\n",
    "  \"messaging_product\": \"whatsapp\",\n",
    "  \"to\": \"923101062596\",\n",
    "  \"type\": \"template\",\n",
    "  \"template\": {\n",
    "    \"name\": \"hello_world\",\n",
    "    \"language\": {\n",
    "      \"code\": \"en_US\"\n",
    "    }\n",
    "  }\n",
    "})\n",
    "headers = {\n",
    "  'Content-Type': 'application/json',\n",
    "  'Authorization': f'Bearer {token}'\n",
    "}\n",
    "\n",
    "response = requests.request(\"POST\", url, headers=headers, data=payload)\n",
    "\n",
    "print(response.text)\n"
   ]
  },
  {
   "cell_type": "code",
   "execution_count": 37,
   "metadata": {},
   "outputs": [
    {
     "data": {
      "text/plain": [
       "'wamid.HBgMOTIzMTAxMDYyNTk2FQIAERgSQjcwNjM5ODZGNjczMTlBRjE5AA=='"
      ]
     },
     "execution_count": 37,
     "metadata": {},
     "output_type": "execute_result"
    }
   ],
   "source": [
    "# Import the library\n",
    "from pywa import WhatsApp\n",
    "\n",
    "# Initialize the WhatsApp object\n",
    "wa = WhatsApp(token=token,phone_id=phone_id)\n",
    "\n",
    "# Send a message\n",
    "response = wa.send_message(to='+923101062596', text='Hello, World!')\n",
    "response\n",
    "# Check if the message was sent successfully\n",
    "# if response.status == 'success':\n",
    "#     print('Message sent successfully.')\n",
    "# else:\n",
    "#     print('Failed to send message.')\n"
   ]
  }
 ],
 "metadata": {
  "kernelspec": {
   "display_name": "main",
   "language": "python",
   "name": "python3"
  },
  "language_info": {
   "codemirror_mode": {
    "name": "ipython",
    "version": 3
   },
   "file_extension": ".py",
   "mimetype": "text/x-python",
   "name": "python",
   "nbconvert_exporter": "python",
   "pygments_lexer": "ipython3",
   "version": "3.10.9"
  }
 },
 "nbformat": 4,
 "nbformat_minor": 2
}
